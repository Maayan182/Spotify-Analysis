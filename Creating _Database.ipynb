{
 "cells": [
  {
   "cell_type": "code",
   "execution_count": 1,
   "id": "d60f0c1f-4334-4961-a7d5-7453c258505c",
   "metadata": {},
   "outputs": [],
   "source": [
    "import pandas as pd\n",
    "import seaborn as sns\n",
    "import matplotlib\n",
    "import matplotlib.pyplot as plt\n",
    "from collections import defaultdict\n",
    "import numpy as np\n",
    "from scipy import stats"
   ]
  },
  {
   "cell_type": "code",
   "execution_count": 2,
   "id": "671386e6-4bed-4947-8c0d-776a7ee63063",
   "metadata": {},
   "outputs": [
    {
     "name": "stdout",
     "output_type": "stream",
     "text": [
      "Please navigate here to authorize the application:  https://accounts.spotify.com/authorize?client_id=6f11478dbb564508aeaf87955de22cb6&response_type=code&redirect_uri=http%3A%2F%2Flocalhost%3A8888%2Ffiles%2FJupyter%2520Notebook%2520Projects%2Fmy_spotify%2Fcallback.html&scope=user-read-private+user-read-email+playlist-read-private+user-top-read\n"
     ]
    },
    {
     "name": "stdin",
     "output_type": "stream",
     "text": [
      "Enter the authorization code:  AQBfWN34Elf3rczFlQX477h_lNcQduBO7esBlp3xc3Ve-ant6YMR2AUmiKpzd52gKb2ZAOwDT-5WFrz1R4CNBcoYyvY4WVo90zg_DeH0AYi2jFRkSTagc1pZ3NXJWPmFPKXHTulAAUnH1qYjccP8DGmFZLliddY6ckDykoue6xZnhQPa7-bAmhNCNaKE4SGuP36ymozNNCsqH5abcuZzOxdg3gKxkOfL-LcqWXtRCWLdMCVN6tFU6fhSSitQkX4JziAia551gQu2MhwF9mTERmXuED8cLX52-Law2IGjZD49V_Gw3yEuUClbK4S7uFmE3NoMT7qHLEq4C2UCO_tcDw\n"
     ]
    }
   ],
   "source": [
    "import spotipy\n",
    "from spotipy.oauth2 import SpotifyOAuth\n",
    "\n",
    "# Replace with your client ID, client secret, and redirect URI\n",
    "client_id = '6f11478dbb564508aeaf87955de22cb6'\n",
    "client_secret = 'df29bc83680d45889368d115410d1c40'\n",
    "redirect_uri = 'http://localhost:8888/files/Jupyter%20Notebook%20Projects/my_spotify/callback.html'\n",
    "# Replace with your actual redirect uri\n",
    "# note that this adress is the only one I have on my app in spotifiy set as uri. \n",
    "#if you are trying to use it you shuold make your own app or try to mimic this location on your computer\n",
    "#use the file \"callback.html\" I have created as your URI \n",
    "scope = 'user-read-private user-read-email playlist-read-private user-top-read'\n",
    "sp_oauth = SpotifyOAuth(client_id=client_id,\n",
    "                        client_secret=client_secret,\n",
    "                        redirect_uri=redirect_uri,\n",
    "                        scope=scope)\n",
    "\n",
    "# Get authorization URL\n",
    "auth_url = sp_oauth.get_authorize_url()\n",
    "print(\"Please navigate here to authorize the application: \", auth_url)\n",
    "\n",
    "# Manually get the authorization code after user authentication\n",
    "# This should be obtained by redirecting the user to auth_url and handling the callback\n",
    "authorization_code = input(\"Enter the authorization code: \")\n",
    "\n",
    "# Exchange authorization code for access token\n",
    "access_token = sp_oauth.get_access_token(code=authorization_code, as_dict=False)\n"
   ]
  },
  {
   "cell_type": "code",
   "execution_count": 3,
   "id": "8662ceb2-8ac5-4468-b4b6-d9638757a484",
   "metadata": {},
   "outputs": [],
   "source": [
    "# Create a Spotify object with the access token\n",
    "spotify = spotipy.Spotify(auth=access_token)\n",
    "user_profile = spotify.current_user()"
   ]
  },
  {
   "cell_type": "code",
   "execution_count": 4,
   "id": "363a55bc-7262-4b41-8081-758fa829df66",
   "metadata": {},
   "outputs": [],
   "source": [
    "#getting my top 50 tracks into a list and adding the artists of thoes tracks into the artist set\n",
    "my_top_tracks = spotify.current_user_top_tracks(limit=50,time_range=\"long_term\")\n",
    "my_top_tracks_list =[]\n",
    "artists_set = set()\n",
    "for song in my_top_tracks[\"items\"]:\n",
    "    my_top_tracks_list.append((song[\"name\"],song[\"id\"],song[\"popularity\"],int(song[\"album\"][\"release_date\"].split('-')[0])))\n",
    "    artists_set.update((artist[\"name\"], artist[\"id\"],song[\"id\"]) for artist in song[\"artists\"])"
   ]
  },
  {
   "cell_type": "code",
   "execution_count": 5,
   "id": "7dcce988-80fa-4b71-889d-7a805734cc5c",
   "metadata": {},
   "outputs": [],
   "source": [
    "#creating data frame from the set using pandas\n",
    "my_top_tracks_df = pd.DataFrame(my_top_tracks_list,columns=[\"song_name\",\"song_id\",\"popularity\",\"release_year\"])"
   ]
  },
  {
   "cell_type": "code",
   "execution_count": 6,
   "id": "90403d2c-606f-4ac8-bcad-ef4f5ea52be6",
   "metadata": {},
   "outputs": [],
   "source": [
    "#getting my top 50 artists\n",
    "my_top_artists = spotify.current_user_top_artists(limit=50, time_range=\"long_term\")[\"items\"]\n",
    "my_top_artists_list = []\n",
    "for artist in my_top_artists:\n",
    "  my_top_artists_list.append((artist[\"name\"], artist[\"id\"]))"
   ]
  },
  {
   "cell_type": "code",
   "execution_count": 7,
   "id": "7422f2f1-7afa-444f-8b8e-0b27ee5e43d4",
   "metadata": {},
   "outputs": [],
   "source": [
    "#creating a data frame from the set\n",
    "my_top_artists_df = pd.DataFrame(my_top_artists_list,columns=[\"artist_name\",\"artist_id\"])"
   ]
  },
  {
   "cell_type": "code",
   "execution_count": 9,
   "id": "d4bc7d29-8962-4750-a501-08cee40d645d",
   "metadata": {},
   "outputs": [],
   "source": [
    "#getting 250 songs and their artists from each year between 1950-2024\n",
    "song_name=[]\n",
    "song_id=[]\n",
    "popularity=[]\n",
    "years = []\n",
    "for year in range(1950,2025):\n",
    "    for i in range(5):\n",
    "        tracks = spotify.search(q=f\"year:{year}\",limit=50, type=\"track\",offset=i*50)\n",
    "        for song in tracks['tracks']['items']:\n",
    "            song_name.append(song['name'])\n",
    "            song_id.append(song['id'])\n",
    "            popularity.append(song[\"popularity\"])\n",
    "            years.append(year)\n",
    "            artists_set.update((artist[\"name\"], artist[\"id\"],song[\"id\"]) for artist in song[\"artists\"])"
   ]
  },
  {
   "cell_type": "code",
   "execution_count": 10,
   "id": "b37ade18-03b6-4890-af6b-f9de700090f4",
   "metadata": {},
   "outputs": [],
   "source": [
    "#creating a data frame with all of the artists so far and the connection to the songs\n",
    "artists_songs_df = pd.DataFrame(artists_set,columns=[\"artist_name\",\"artist_id\",\"song_id\"])"
   ]
  },
  {
   "cell_type": "code",
   "execution_count": 11,
   "id": "ead257de-f73b-48a6-96c5-2b8110d5b6f0",
   "metadata": {},
   "outputs": [],
   "source": [
    "##creating a data frame with all of the artists so far\n",
    "artists_df = pd.concat([artists_songs_df.drop(columns=\"song_id\").drop_duplicates(\"artist_id\"),my_top_artists_df],ignore_index=True)\n",
    "artists_df.drop_duplicates(\"artist_id\",inplace=True)\n",
    "artists_songs_df.drop(columns=\"artist_name\",inplace=True)"
   ]
  },
  {
   "cell_type": "code",
   "execution_count": 12,
   "id": "c81aaf1c-df47-4b02-8faa-004b3b8d9881",
   "metadata": {},
   "outputs": [],
   "source": [
    "#reordernig the index\n",
    "artists_df = artists_df.reset_index(drop=True)\n",
    "artists_df.index = range(len(artists_df))"
   ]
  },
  {
   "cell_type": "code",
   "execution_count": 13,
   "id": "a6556360-759c-487b-8ac0-68f97996c7c0",
   "metadata": {},
   "outputs": [],
   "source": [
    "#create a data frame for the songs I got\n",
    "tracks_df=pd.DataFrame({\"song_name\":song_name,\"song_id\":song_id,\"popularity\":popularity,\"release_year\":years})"
   ]
  },
  {
   "cell_type": "code",
   "execution_count": 14,
   "id": "49f28a56-7c7b-45bd-804f-715bc05d4210",
   "metadata": {},
   "outputs": [],
   "source": [
    "#adding my top songs to the tracks data frame\n",
    "tracks_df=pd.concat([tracks_df,my_top_tracks_df],ignore_index=True)"
   ]
  },
  {
   "cell_type": "code",
   "execution_count": 15,
   "id": "7d17712a-f240-45b2-b448-9d8fb4a98766",
   "metadata": {},
   "outputs": [],
   "source": [
    "#droping duplicates that may occur because of my top tracks\n",
    "tracks_df=tracks_df.drop_duplicates(\"song_id\")\n",
    "#reordernig the index\n",
    "tracks_df = tracks_df.reset_index(drop=True)\n",
    "tracks_df.index = range(len(tracks_df))"
   ]
  },
  {
   "cell_type": "code",
   "execution_count": 16,
   "id": "9bb7d40e-53da-45bc-86ee-99e57b05f103",
   "metadata": {},
   "outputs": [],
   "source": [
    "#getting audio features info for each song into a list\n",
    "songs_features_list=[]\n",
    "for i in range(0,len(tracks_df),100):\n",
    "    end = min(i + 100, len(tracks_df))\n",
    "    song_ids = tracks_df['song_id'].iloc[i:end].tolist()\n",
    "    songs_features_list.extend(spotify.audio_features(song_ids))"
   ]
  },
  {
   "cell_type": "code",
   "execution_count": 17,
   "id": "20390836-d51b-489d-8db6-a6262c12be65",
   "metadata": {},
   "outputs": [],
   "source": [
    "#removing empty dict i got from the api\n",
    "filtered_list = [item for item in songs_features_list if item is not None]"
   ]
  },
  {
   "cell_type": "code",
   "execution_count": 18,
   "id": "c39848fe-ed68-4174-90de-46c100d6699a",
   "metadata": {},
   "outputs": [],
   "source": [
    "#getting explicit info for each song into a set\n",
    "songs_info_set=set()\n",
    "for i in range(0,len(tracks_df),50):\n",
    "    end = min(i + 50, len(tracks_df))\n",
    "    song_ids = tracks_df['song_id'].iloc[i:end].tolist()\n",
    "    songs_info_set.update((track[\"explicit\"],track[\"id\"]) for track in spotify.tracks(song_ids)[\"tracks\"])"
   ]
  },
  {
   "cell_type": "code",
   "execution_count": 19,
   "id": "9b32346c-42f7-42f3-8242-33619f1b383a",
   "metadata": {},
   "outputs": [
    {
     "data": {
      "text/plain": [
       "18758"
      ]
     },
     "execution_count": 19,
     "metadata": {},
     "output_type": "execute_result"
    }
   ],
   "source": [
    "len(songs_info_set)"
   ]
  },
  {
   "cell_type": "code",
   "execution_count": 20,
   "id": "baa056ba-25fd-46ac-9872-89da76300b0a",
   "metadata": {},
   "outputs": [],
   "source": [
    "# Create a set of artist id to genres to approximate the songs genres\n",
    "#also getting more info(popularity,followers) on the artists\n",
    "artist_genres_set=set()\n",
    "artist_pop_fol_set = set()\n",
    "for i in range(0,len(artists_songs_df.drop_duplicates(\"artist_id\")),50):\n",
    "    end = min(i + 50, len(artists_songs_df.drop_duplicates(\"artist_id\")))\n",
    "    artists_ids = artists_songs_df.drop_duplicates(\"artist_id\")[\"artist_id\"].iloc[i:end].tolist()\n",
    "    artists = spotify.artists(artists_ids)[\"artists\"]\n",
    "    artist_pop_fol_set.update((artist[\"id\"],artist[\"popularity\"],artist[\"followers\"][\"total\"]) for artist in artists)\n",
    "    artist_genres_set.update((artist[\"id\"],tuple(artist[\"genres\"])) for artist in artists)"
   ]
  },
  {
   "cell_type": "code",
   "execution_count": 21,
   "id": "9104c1c9-6132-4a29-92cc-f06c8a82f5f4",
   "metadata": {},
   "outputs": [],
   "source": [
    "my_artists = spotify.artists(my_top_artists_df[\"artist_id\"].iloc[0:50].tolist())[\"artists\"]"
   ]
  },
  {
   "cell_type": "code",
   "execution_count": 22,
   "id": "a4e18fc0-f9fc-49ff-96a1-85a33f84ffd7",
   "metadata": {},
   "outputs": [],
   "source": [
    "artist_pop_fol_set.update((artist[\"id\"],artist[\"popularity\"],artist[\"followers\"][\"total\"]) for artist in my_artists)"
   ]
  },
  {
   "cell_type": "code",
   "execution_count": 23,
   "id": "369c6120-f181-4af2-b388-5e691d7e2dd1",
   "metadata": {},
   "outputs": [],
   "source": [
    "artist_genres_set.update((artist[\"id\"],tuple(artist[\"genres\"])) for artist in my_artists)"
   ]
  },
  {
   "cell_type": "code",
   "execution_count": 24,
   "id": "4f7ba73d-553c-4b94-846d-8df2b1d228f7",
   "metadata": {},
   "outputs": [],
   "source": [
    "artist_info_df = pd.DataFrame(artist_pop_fol_set,columns=[\"artist_id\",\"artist_popularity\",\"followers\"])"
   ]
  },
  {
   "cell_type": "code",
   "execution_count": 25,
   "id": "b8cc996a-01d2-44b8-8f41-a96bc5441246",
   "metadata": {},
   "outputs": [],
   "source": [
    "#merging the new info\n",
    "artists_df=artists_df.merge(artist_info_df,on=\"artist_id\")"
   ]
  },
  {
   "cell_type": "code",
   "execution_count": 26,
   "id": "3b356396-91f4-47b6-a759-a399110c12e5",
   "metadata": {},
   "outputs": [],
   "source": [
    "#creating an explicit data frame \n",
    "songs_explicit_df = pd.DataFrame(songs_info_set, columns=[\"explicit\",\"song_id\"])"
   ]
  },
  {
   "cell_type": "code",
   "execution_count": 27,
   "id": "872429ad-024a-47aa-9e5d-9730edf4626e",
   "metadata": {},
   "outputs": [],
   "source": [
    "#creating a audio features data frame \n",
    "audio_info_df = pd.DataFrame(filtered_list)"
   ]
  },
  {
   "cell_type": "code",
   "execution_count": 28,
   "id": "8b5f88f6-8610-41ee-9678-1e4882164178",
   "metadata": {},
   "outputs": [],
   "source": [
    "#merging into the tracks data frame with inner join\n",
    "audio_info_df[\"song_id\"]=audio_info_df[\"id\"]\n",
    "audio_info_df.drop(columns=\"id\",inplace=True)\n",
    "tracks_df=tracks_df.merge(audio_info_df,on=\"song_id\")"
   ]
  },
  {
   "cell_type": "code",
   "execution_count": 29,
   "id": "ef0b8fe3-3f8f-4a55-a498-8cc24cccdb12",
   "metadata": {},
   "outputs": [],
   "source": [
    "tracks_df=tracks_df.merge(songs_explicit_df,on=\"song_id\")"
   ]
  },
  {
   "cell_type": "code",
   "execution_count": 30,
   "id": "0b8ade2e-2943-4ff1-8a21-98ffb5b0c2b9",
   "metadata": {},
   "outputs": [],
   "source": [
    "#removing unnecessary columns\n",
    "tracks_df.drop(columns=[\"type\",\"uri\",\"track_href\",\"analysis_url\"],inplace=True)"
   ]
  },
  {
   "cell_type": "code",
   "execution_count": 31,
   "id": "262ee0b5-15b6-4a5b-8a90-9def2906c769",
   "metadata": {},
   "outputs": [],
   "source": [
    "#trying to simplfiy the genres of the songs to a main genre\n",
    "def determine_genre(genres):\n",
    "    keywords_map = {\n",
    "        \"pop\": [\"pop\",\"chanson\", \"synthpop\", \"electropop\", \"k-pop\", \"teen pop\", \"pop rock\", \"pop punk\", \"australian pop\"],\n",
    "        \"rock\": [\"rock\",\"surf\", \"hard rock\",\"progressive rock\", \"classic rock\", \"alternative rock\", \"indie rock\", \"punk rock\", \"garage rock\",\"rock n roll\",\"instrumental\"],\n",
    "        \"hip_hop\": [\"hip hop\",\"trip-hop\", \"rap\", \"trap\", \"boom bap\", \"gangsta rap\",\"lo-fi\", \"lo-fi hip hop\", \"conscious hip hop\", \"pinoy trap\"],\n",
    "        \"country\": [\"country\",\"nashville\", \"bluegrass\", \"honky-tonk\", \"alt-country\", \"country rock\",\"american\" \"americana\",\"westren\"],\n",
    "        \"jazz\": [\"jazz\",\"lounge\",\"hard bop\", \"bebop\", \"swing\", \"smooth jazz\", \"fusion\", \"free jazz\", \"big band\"],\n",
    "        \"electronic\": [\"electronic\", \"EDM\", \"house\", \"techno\", \"trance\", \"dubstep\", \"drum and bass\", \"electro\",\"slap house\"],\n",
    "        \"classical\": [\"classical\",\"orchestra\",\"violin\",\"choir\", \"baroque\", \"romantic\", \"symphony\", \"opera\", \"chamber music\", \"choral\"],\n",
    "        \"reggae\": [\"reggae\", \"dub\", \"ska\", \"roots reggae\", \"dancehall\", \"rocksteady\"],\n",
    "        \"blues\": [\"blues\", \"delta blues\", \"chicago blues\", \"electric blues\", \"country blues\", \"soul blues\"],\n",
    "        \"metal\": [\"metal\", \"heavy metal\", \"thrash metal\", \"death metal\", \"black metal\", \"power metal\", \"doom metal\",\"grindcore\",\"death\",\"doom\"],\n",
    "        \"folk\": [\"folk\", \"contemporary folk\",\"disco\", \"folk rock\", \"indie folk\", \"neofolk\", \"traditional folk\", \"folk-pop\"],\n",
    "        \"punk\": [\"punk\", \"punk rock\",\"trash\", \"hardcore punk\", \"post-punk\", \"pop punk\", \"garage punk\"],\n",
    "        \"indie\": [\"indie\", \"indie pop\", \"indie rock\", \"indie folk\", \"alternative\", \"dream pop\", \"shoegaze\", \"australian indie\"],\n",
    "        \"movie\": [\"broadway\",\"ost\",\"cartoon\",\"soundtrack\",\"cabaret\",\"compositional ambient\",\"video game\",\"festigal\", \"tin pan alley\",\"soundtracks\",\"movie\",\"hollywood\"],\n",
    "        \"RnB\": [\"r&b\",\"doo wop\",\"funk\",\"alternative r&b\", \"rhythm and blues\", \"neo soul\", \"contemporary r&b\", \"soul\",\"doo wop\",\"rhythm n blues\",\"rnb\",\"rhythm 'n' blues\"],\n",
    "        \"mediterranean\": [\"mediterranean\",\"muzika\",\"italian\",\"samba\", \"greek pop\", \"italian pop\", \"spanish pop\", \"turkish pop\",\"israeli\"],\n",
    "        \"adult_standards\": [\"adult standards\", \"easy listening\", \"vocal jazz\", \"swing revival\", \"crooners\"]\n",
    "\n",
    "    }\n",
    "    genres = [genre.lower() for genre in genres]\n",
    "    genre_count = defaultdict(int)\n",
    "    \n",
    "    for genre in genres:\n",
    "        for main_genre, genre_keywords in keywords_map.items():\n",
    "            if any(keyword in genre for keyword in genre_keywords):\n",
    "                genre_count[main_genre] += 1\n",
    "    if genre_count:\n",
    "        return max(genre_count, key=genre_count.get)\n",
    "    else:\n",
    "        return \"unknown\""
   ]
  },
  {
   "cell_type": "code",
   "execution_count": 32,
   "id": "36ef48af-735e-4762-9fcf-660ab65a3b42",
   "metadata": {},
   "outputs": [],
   "source": [
    "artist_genres_set = {(artist,determine_genre(list(genres))) for artist,genres in dict(artist_genres_set).items()}"
   ]
  },
  {
   "cell_type": "code",
   "execution_count": 33,
   "id": "2f4270b7-e69a-4664-ab72-234aa8d62f70",
   "metadata": {},
   "outputs": [],
   "source": [
    "artist_genres_df = pd.DataFrame(artist_genres_set,columns=[\"artist_id\",\"genre\"])"
   ]
  },
  {
   "cell_type": "code",
   "execution_count": 34,
   "id": "469ec628-213e-4274-b393-6322a491c304",
   "metadata": {},
   "outputs": [],
   "source": [
    "tracks_df = tracks_df.merge(artist_genres_df.merge(artists_songs_df,on=\"artist_id\").drop_duplicates(\"song_id\").drop(columns=[\"artist_id\"]),on=\"song_id\")\n",
    "#reordernig the index\n",
    "tracks_df = tracks_df.reset_index(drop=True)\n",
    "tracks_df.index = range(len(tracks_df))"
   ]
  },
  {
   "cell_type": "code",
   "execution_count": 35,
   "id": "61b56a18-d445-4a3d-91cf-ae16b7771ddf",
   "metadata": {},
   "outputs": [],
   "source": [
    "#adding the new info to my top tracks data frame\n",
    "my_top_tracks_df=my_top_tracks_df.drop(columns=[\"song_name\",\"popularity\",\"release_year\"]).merge(tracks_df,how=\"left\",on=\"song_id\")"
   ]
  },
  {
   "cell_type": "code",
   "execution_count": 36,
   "id": "b5aedd51-fcaf-401d-95f8-2883d5b8dd29",
   "metadata": {},
   "outputs": [],
   "source": [
    "#adding the new info to my top artists as well\n",
    "my_top_artists_df=my_top_artists_df.drop(columns=[\"artist_name\"]).merge(artists_df,how=\"left\",on=\"artist_id\")"
   ]
  },
  {
   "cell_type": "markdown",
   "id": "3fe9b33d-5b3e-42bc-9786-7ae27dcb01bc",
   "metadata": {},
   "source": [
    "Now I have decided to add more songs and artists to my database from datasets I found online.\n",
    "Note that this data is relevant to 2021, unlike the data I got from the API.\n",
    "However, I will need to do some work to ensure the data matches my format. Let's begin by getting the data:"
   ]
  },
  {
   "cell_type": "code",
   "execution_count": 37,
   "id": "c34f448c-fc00-4c5c-aa27-6b6b23e8a673",
   "metadata": {},
   "outputs": [],
   "source": [
    "tracks2_df = pd.read_csv(r\"C:\\Users\\Mbtpem\\Jupyter Notebook Projects\\my_spotify\\tracks.csv\")\n",
    "artists2_df = pd.read_csv(r\"C:\\Users\\Mbtpem\\Jupyter Notebook Projects\\my_spotify\\artists.csv\")"
   ]
  },
  {
   "cell_type": "markdown",
   "id": "783b9232-f67c-492b-b9e9-9503faa17b45",
   "metadata": {},
   "source": [
    "The 'tracks2' dataset has an inconsistent release year format. It also contains the artists\n",
    "and their IDs as lists, which I don't need, but this information will help me approximate the genres of the songs.\n",
    "Let's make sure we can work with lists and apply the 'eval' function."
   ]
  },
  {
   "cell_type": "code",
   "execution_count": 38,
   "id": "9252dfd8-d752-43d2-af49-de594a08bfd9",
   "metadata": {},
   "outputs": [],
   "source": [
    "tracks2_df[\"artists\"]=tracks2_df[\"artists\"].apply(eval)\n",
    "tracks2_df[\"id_artists\"]=tracks2_df[\"id_artists\"].apply(eval)"
   ]
  },
  {
   "cell_type": "code",
   "execution_count": 39,
   "id": "4e24b7b2-3a70-42bd-aebc-4aa53bc6224a",
   "metadata": {},
   "outputs": [],
   "source": [
    "#explode the lists\n",
    "song_to_artist_df=tracks2_df.explode(['artists', 'id_artists'])"
   ]
  },
  {
   "cell_type": "code",
   "execution_count": 40,
   "id": "418db39f-6f45-42bd-9ad9-b756aa315b9e",
   "metadata": {},
   "outputs": [],
   "source": [
    "#prepering to merge\n",
    "artists2_df[\"id_artists\"] = artists2_df[\"id\"]\n",
    "artists2_df.drop(columns=[\"id\"],inplace=True)"
   ]
  },
  {
   "cell_type": "code",
   "execution_count": 41,
   "id": "413185f0-c58f-400f-81f0-017ff2546537",
   "metadata": {},
   "outputs": [],
   "source": [
    "#merge the artist info on the songs_to_artists. inner join - I only want songs that the artists exist in the database so I can approximate the genres\n",
    "song_to_artist_df=song_to_artist_df.merge(artists2_df[[\"id_artists\",\"genres\"]],on=\"id_artists\")"
   ]
  },
  {
   "cell_type": "code",
   "execution_count": 42,
   "id": "5762bf4e-ca8a-4903-a68a-5dac45749e72",
   "metadata": {},
   "outputs": [],
   "source": [
    "# I will leave the song_to_artist dataframe to add to the previuos one and create a new one for the next step\n",
    "song_to_genres_df = song_to_artist_df.drop_duplicates(\"id\")[[\"id\",\"genres\"]]"
   ]
  },
  {
   "cell_type": "code",
   "execution_count": 43,
   "id": "d0b458d6-e252-479f-8891-de24eac1247c",
   "metadata": {},
   "outputs": [],
   "source": [
    "song_to_genres_df[\"genres\"] =song_to_genres_df[\"genres\"].apply(eval)"
   ]
  },
  {
   "cell_type": "code",
   "execution_count": 44,
   "id": "e9e0114f-458e-4f82-8316-6646d01ac9dc",
   "metadata": {},
   "outputs": [],
   "source": [
    "song_to_genres_df.set_index(\"id\",inplace=True)"
   ]
  },
  {
   "cell_type": "code",
   "execution_count": 45,
   "id": "97c32e67-94ed-4d4f-bcd2-32a2cb486620",
   "metadata": {},
   "outputs": [],
   "source": [
    "#my function works faster on a dict. to use 'apply' on a col took too long\n",
    "song_to_genres_dic = song_to_genres_df.to_dict()[\"genres\"]"
   ]
  },
  {
   "cell_type": "code",
   "execution_count": 46,
   "id": "9963ee3a-155f-458b-8481-2e3aa2bb3c4c",
   "metadata": {},
   "outputs": [],
   "source": [
    "#approximate the genres with my function\n",
    "song_to_genres_dic = {(song,determine_genre(genres)) for song,genres in song_to_genres_dic.items()}"
   ]
  },
  {
   "cell_type": "code",
   "execution_count": 47,
   "id": "08ea9bfa-9a35-4fbe-9f0d-4b089d25faf3",
   "metadata": {},
   "outputs": [],
   "source": [
    "song_to_genres_df = pd.DataFrame(song_to_genres_dic,columns=[\"song_id\",\"genre\"])"
   ]
  },
  {
   "cell_type": "code",
   "execution_count": 48,
   "id": "f1ecfd1b-2997-4a0f-9f94-3e36d0ecff7c",
   "metadata": {},
   "outputs": [],
   "source": [
    "#since I dont want to add more songs with unknown genres i will drop thoes\n",
    "song_to_genres_df=song_to_genres_df[song_to_genres_df[\"genre\"]!=\"unknown\"]"
   ]
  },
  {
   "cell_type": "code",
   "execution_count": 49,
   "id": "f4dc534f-6f02-434a-853c-7e4eebf28100",
   "metadata": {},
   "outputs": [],
   "source": [
    "#preparing to concat\n",
    "tracks2_df[\"song_name\"] = tracks2_df[\"name\"]\n",
    "tracks2_df[\"song_id\"] = tracks2_df[\"id\"]\n",
    "tracks2_df[\"release_year\"] = tracks2_df[\"release_date\"].apply(lambda x: int(x[:4]))\n",
    "tracks2_df[\"explicit\"] = tracks2_df[\"explicit\"].apply(lambda x: x==1)"
   ]
  },
  {
   "cell_type": "code",
   "execution_count": 50,
   "id": "6ac23fd6-98d4-4d6f-81af-56537dfd5842",
   "metadata": {},
   "outputs": [],
   "source": [
    "tracks2_df=tracks2_df.drop(columns=[\"name\",\"id\",\"release_date\",\"artists\",\"id_artists\"]).drop_duplicates(\"song_id\")"
   ]
  },
  {
   "cell_type": "code",
   "execution_count": 51,
   "id": "9646636b-3971-4d3b-9f57-6a4f7d8ded18",
   "metadata": {},
   "outputs": [],
   "source": [
    "#add the genre info with inner join\n",
    "tracks2_df = tracks2_df.merge(song_to_genres_df,on=\"song_id\")"
   ]
  },
  {
   "cell_type": "code",
   "execution_count": 52,
   "id": "6f953fef-9551-4c71-a269-1b61c3626893",
   "metadata": {},
   "outputs": [],
   "source": [
    "#preparing to concat the artists\n",
    "artists2_df[\"artist_id\"]= artists2_df[\"id_artists\"]\n",
    "artists2_df[\"artist_name\"] = artists2_df[\"name\"]\n",
    "artists2_df[\"artist_popularity\"] = artists2_df[\"popularity\"]"
   ]
  },
  {
   "cell_type": "code",
   "execution_count": 53,
   "id": "9410668a-c16e-4f13-a9f1-ba4997a512fe",
   "metadata": {},
   "outputs": [],
   "source": [
    "artists2_df.drop(columns=[\"name\",\"id_artists\",\"genres\",\"popularity\"],inplace=True)"
   ]
  },
  {
   "cell_type": "code",
   "execution_count": 54,
   "id": "3262082f-b736-4a04-9389-5076aaf22293",
   "metadata": {},
   "outputs": [],
   "source": [
    "#adding to my data frame\n",
    "artists_df=pd.concat([artists_df,artists2_df],ignore_index=True)\n",
    "artists_df.drop_duplicates(\"artist_id\",inplace=True)"
   ]
  },
  {
   "cell_type": "code",
   "execution_count": 55,
   "id": "2de5d799-8ccb-44ec-867f-ce625444b334",
   "metadata": {},
   "outputs": [],
   "source": [
    "artists_df = artists_df.reset_index(drop=True)\n",
    "artists_df.index = range(len(artists_df))"
   ]
  },
  {
   "cell_type": "code",
   "execution_count": 56,
   "id": "d9b4f9b1-9662-4342-8afc-bf3a28de705b",
   "metadata": {},
   "outputs": [],
   "source": [
    "#adding to my data frame\n",
    "tracks_df=pd.concat([tracks_df,tracks2_df],ignore_index=True)\n",
    "tracks_df.drop_duplicates(\"song_id\",inplace=True)"
   ]
  },
  {
   "cell_type": "code",
   "execution_count": 57,
   "id": "2eef68b8-5650-4ef9-be52-da40eb52ec17",
   "metadata": {},
   "outputs": [],
   "source": [
    "tracks_df = tracks_df.reset_index(drop=True)\n",
    "tracks_df.index = range(len(tracks_df))"
   ]
  },
  {
   "cell_type": "code",
   "execution_count": null,
   "id": "7186b900-74d9-4ab6-ae4f-70fa165925cb",
   "metadata": {},
   "outputs": [],
   "source": [
    "song_to_artist_df = song_to_artist_df[[\"id\",\"id_artists\"]]\n",
    "song_to_artist_df[\"artist_id\"] = song_to_artist_df[\"id_artists\"]\n",
    "song_to_artist_df[\"song_id\"] = song_to_artist_df[\"id\"]\n",
    "song_to_artist_df.drop(columns=[\"id_artists\",\"id\"],inplace=True)"
   ]
  },
  {
   "cell_type": "code",
   "execution_count": 60,
   "id": "afb38676-e538-432d-a197-5a237c848068",
   "metadata": {},
   "outputs": [],
   "source": [
    "song_to_artist_df.drop(columns=[\"id_artists\",\"id\"],inplace=True)"
   ]
  },
  {
   "cell_type": "code",
   "execution_count": 61,
   "id": "d2cc0935-b959-4546-b1aa-62930a538dae",
   "metadata": {},
   "outputs": [],
   "source": [
    "#filtering connections betweens songs and artists that the songs are not in the data base\n",
    "song_to_artist_df = song_to_artist_df[song_to_artist_df['song_id'].isin(tracks2_df['song_id'])]"
   ]
  },
  {
   "cell_type": "code",
   "execution_count": 62,
   "id": "478d40dd-ffca-4196-9130-2e2b0d6d57c7",
   "metadata": {},
   "outputs": [],
   "source": [
    "#adding to my data frame\n",
    "artists_songs_df=pd.concat([artists_songs_df,song_to_artist_df[[\"artist_id\",\"song_id\"]]],ignore_index=True)\n",
    "artists_songs_df.drop_duplicates([\"artist_id\",\"song_id\"],inplace=True)"
   ]
  },
  {
   "cell_type": "code",
   "execution_count": 63,
   "id": "535ce9e9-de59-4847-94c9-e1b63ba62a24",
   "metadata": {},
   "outputs": [],
   "source": [
    "artists_songs_df = artists_songs_df.reset_index(drop=True)\n",
    "artists_songs_df.index = range(len(artists_songs_df))"
   ]
  },
  {
   "cell_type": "code",
   "execution_count": null,
   "id": "59b67cd1-e66d-4989-b835-873200f7f861",
   "metadata": {},
   "outputs": [],
   "source": [
    "tracks_df[\"duration_sec\"] = tracks_df[\"duration_ms\"]/1000\n",
    "tracks_df.drop(columns=\"duration_ms\",inplace=True)"
   ]
  },
  {
   "cell_type": "code",
   "execution_count": 72,
   "id": "29c9949d-1417-4d4f-8e5a-d017097a551b",
   "metadata": {},
   "outputs": [],
   "source": [
    "my_top_artists_df.to_csv(path_or_buf=r\"C:\\Users\\Mbtpem\\Jupyter Notebook Projects\\my_spotify\\my_top_artists_df.csv\")\n",
    "my_top_tracks_df.to_csv(path_or_buf=r\"C:\\Users\\Mbtpem\\Jupyter Notebook Projects\\my_spotify\\my_top_tracks_df.csv\")\n",
    "tracks_df.to_csv(path_or_buf=r\"C:\\Users\\Mbtpem\\Jupyter Notebook Projects\\my_spotify\\tracks_df.csv\")\n",
    "artists_df.to_csv(path_or_buf=r\"C:\\Users\\Mbtpem\\Jupyter Notebook Projects\\my_spotify\\artists_df.csv\")\n",
    "artists_songs_df.to_csv(path_or_buf=r\"C:\\Users\\Mbtpem\\Jupyter Notebook Projects\\my_spotify\\artists_songs_df.csv\")"
   ]
  }
 ],
 "metadata": {
  "kernelspec": {
   "display_name": "Python 3 (ipykernel)",
   "language": "python",
   "name": "python3"
  },
  "language_info": {
   "codemirror_mode": {
    "name": "ipython",
    "version": 3
   },
   "file_extension": ".py",
   "mimetype": "text/x-python",
   "name": "python",
   "nbconvert_exporter": "python",
   "pygments_lexer": "ipython3",
   "version": "3.12.3"
  }
 },
 "nbformat": 4,
 "nbformat_minor": 5
}
